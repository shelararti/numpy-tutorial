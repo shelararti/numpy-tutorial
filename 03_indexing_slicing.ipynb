{
 "cells": [
  {
   "cell_type": "markdown",
   "id": "965e9202",
   "metadata": {},
   "source": [
    "# 📘 NumPy – Indexing & Slicing"
   ]
  },
  {
   "cell_type": "code",
   "execution_count": null,
   "id": "d28d4993",
   "metadata": {},
   "outputs": [],
   "source": [
    "import numpy as np"
   ]
  },
  {
   "cell_type": "markdown",
   "id": "17fc997c",
   "metadata": {},
   "source": [
    "### 🎯 Objective:\n",
    "\n",
    "Master NumPy array indexing and slicing techniques including:\n",
    "- Basic and advanced indexing\n",
    "- Slicing for subarrays\n",
    "- Boolean and fancy indexing"
   ]
  },
  {
   "cell_type": "markdown",
   "id": "1b2202cd",
   "metadata": {},
   "source": [
    "### 🧱 1. Basic Indexing"
   ]
  },
  {
   "cell_type": "code",
   "execution_count": null,
   "id": "278c48c3",
   "metadata": {},
   "outputs": [],
   "source": [
    "a = np.array([10, 20, 30, 40, 50])\n",
    "print(\"First element:\", a[0])\n",
    "print(\"Last element:\", a[-1])"
   ]
  },
  {
   "cell_type": "markdown",
   "id": "09e61b53",
   "metadata": {},
   "source": [
    "### 🧱 2. Slicing"
   ]
  },
  {
   "cell_type": "code",
   "execution_count": null,
   "id": "22868c77",
   "metadata": {},
   "outputs": [],
   "source": [
    "print(\"First 3 elements:\", a[:3])\n",
    "print(\"Last 2 elements:\", a[-2:])\n",
    "print(\"Every 2nd element:\", a[::2])"
   ]
  },
  {
   "cell_type": "markdown",
   "id": "db05443e",
   "metadata": {},
   "source": [
    "### 2D Example"
   ]
  },
  {
   "cell_type": "code",
   "execution_count": null,
   "id": "16d941e7",
   "metadata": {},
   "outputs": [],
   "source": [
    "b = np.array([[1, 2, 3], [4, 5, 6], [7, 8, 9]])\n",
    "print(\"Element at row 1, col 2:\", b[1, 2])\n",
    "print(\"First two rows:\\n\", b[:2])\n",
    "print(\"Last column:\\n\", b[:, -1])"
   ]
  },
  {
   "cell_type": "markdown",
   "id": "e2c98c95",
   "metadata": {},
   "source": [
    "### 🧠 3. Modifying Arrays Using Indexing"
   ]
  },
  {
   "cell_type": "code",
   "execution_count": null,
   "id": "76607cff",
   "metadata": {},
   "outputs": [],
   "source": [
    "a[0] = 100\n",
    "b[0, 0] = 999\n",
    "print(\"Modified a:\", a)\n",
    "print(\"Modified b:\\n\", b)"
   ]
  },
  {
   "cell_type": "markdown",
   "id": "6f14ad04",
   "metadata": {},
   "source": [
    "### 🧲 4. Boolean Indexing (Masking)"
   ]
  },
  {
   "cell_type": "code",
   "execution_count": null,
   "id": "300d073a",
   "metadata": {},
   "outputs": [],
   "source": [
    "arr = np.array([5, 10, 15, 20])\n",
    "mask = arr > 10\n",
    "print(\"Mask:\", mask)\n",
    "print(\"Values > 10:\", arr[mask])\n",
    "print(\"Directly:\", arr[arr > 10])"
   ]
  },
  {
   "cell_type": "markdown",
   "id": "15f74fda",
   "metadata": {},
   "source": [
    "### Use case: Replace values conditionally"
   ]
  },
  {
   "cell_type": "code",
   "execution_count": null,
   "id": "5c35841f",
   "metadata": {},
   "outputs": [],
   "source": [
    "arr[arr > 10] = 99\n",
    "print(\"Modified arr:\", arr)"
   ]
  },
  {
   "cell_type": "markdown",
   "id": "5ec5e29c",
   "metadata": {},
   "source": [
    "### 🧪 5. Fancy Indexing\n",
    "\n",
    "Fancy indexing allows passing an array of indices."
   ]
  },
  {
   "cell_type": "code",
   "execution_count": null,
   "id": "7eaa19bc",
   "metadata": {},
   "outputs": [],
   "source": [
    "data = np.array([10, 20, 30, 40, 50])\n",
    "indices = [1, 3, 4]\n",
    "print(\"Fancy indexing:\", data[indices])\n",
    "\n",
    "matrix = np.array([[11, 12], [13, 14], [15, 16]])\n",
    "rows = [0, 2]\n",
    "cols = [1, 0]\n",
    "print(\"Advanced indexing:\", matrix[rows, cols])  # [matrix[0,1], matrix[2,0]]"
   ]
  },
  {
   "cell_type": "markdown",
   "id": "239320a4",
   "metadata": {},
   "source": [
    "### 🔁 6. Copy vs View"
   ]
  },
  {
   "cell_type": "code",
   "execution_count": null,
   "id": "a5e9bd69",
   "metadata": {},
   "outputs": [],
   "source": [
    "x = np.array([1, 2, 3])\n",
    "y = x[1:]  # view\n",
    "y[0] = 99\n",
    "print(\"Original x (affected):\", x)\n",
    "\n",
    "x_copy = x.copy()\n",
    "x_copy[0] = -1\n",
    "print(\"Original x (not affected by copy):\", x)"
   ]
  },
  {
   "cell_type": "markdown",
   "id": "605f8e0e",
   "metadata": {},
   "source": [
    "### 🧠 Summary:\n",
    "\n",
    "- Indexing is powerful for selecting and updating elements.\n",
    "- Slicing gives subarrays (views, not copies).\n",
    "- Boolean indexing is great for filtering.\n",
    "- Fancy indexing allows indirect access using arrays.\n",
    "\n",
    "---\n",
    "\n",
    "### ✅ Next Up:\n",
    "\n",
    "We'll explore NumPy's math, stats, and random number capabilities in `04_math_stats.ipynb`."
   ]
  }
 ],
 "metadata": {
  "language_info": {
   "name": "python"
  }
 },
 "nbformat": 4,
 "nbformat_minor": 5
}

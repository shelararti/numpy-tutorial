{
 "cells": [
  {
   "cell_type": "markdown",
   "id": "625386f8",
   "metadata": {},
   "source": [
    "# 📘 NumPy – Mathematical & Statistical Functions"
   ]
  },
  {
   "cell_type": "code",
   "execution_count": null,
   "id": "76a5c205",
   "metadata": {},
   "outputs": [],
   "source": [
    "import numpy as np"
   ]
  },
  {
   "cell_type": "markdown",
   "id": "04b4eede",
   "metadata": {},
   "source": [
    "### 🎯 Objective:\n",
    "\n",
    "Learn key mathematical and statistical functions in NumPy:\n",
    "- Basic math ops\n",
    "- Aggregation functions\n",
    "- Axis-wise operations\n",
    "- Cumulative functions\n",
    "- Descriptive statistics\n"
   ]
  },
  {
   "cell_type": "markdown",
   "id": "c414c135",
   "metadata": {},
   "source": [
    "### 🧮 1. Basic Math Operations (Element-wise)"
   ]
  },
  {
   "cell_type": "code",
   "execution_count": null,
   "id": "e0bb1a6a",
   "metadata": {},
   "outputs": [],
   "source": [
    "\n",
    "a = np.array([1, 2, 3, 4, 5])\n",
    "b = np.array([10, 20, 30, 40, 50])\n",
    "\n",
    "print(\"Addition:\", np.add(a, b))\n",
    "print(\"Subtraction:\", np.subtract(b, a))\n",
    "print(\"Multiplication:\", np.multiply(a, b))\n",
    "print(\"Division:\", np.divide(b, a))"
   ]
  },
  {
   "cell_type": "markdown",
   "id": "58d45f1b",
   "metadata": {},
   "source": [
    "### ⚙️ 2. Common Math Functions"
   ]
  },
  {
   "cell_type": "code",
   "execution_count": null,
   "id": "df56ef42",
   "metadata": {},
   "outputs": [],
   "source": [
    "\n",
    "print(\"Square Root:\", np.sqrt(a))\n",
    "print(\"Exponent:\", np.exp(a))\n",
    "print(\"Log:\", np.log(a))\n",
    "print(\"Sine:\", np.sin(a))\n",
    "print(\"Power:\", np.power(a, 2))"
   ]
  },
  {
   "cell_type": "markdown",
   "id": "8a1ece45",
   "metadata": {},
   "source": [
    "### 🧠 3. Aggregate Functions"
   ]
  },
  {
   "cell_type": "code",
   "execution_count": null,
   "id": "91ff2e48",
   "metadata": {},
   "outputs": [],
   "source": [
    "\n",
    "print(\"Sum:\", np.sum(a))\n",
    "print(\"Mean:\", np.mean(a))\n",
    "print(\"Product:\", np.prod(a))\n",
    "print(\"Standard Deviation:\", np.std(a))\n",
    "print(\"Variance:\", np.var(a))"
   ]
  },
  {
   "cell_type": "markdown",
   "id": "286927ac",
   "metadata": {},
   "source": [
    "### 📏 4. Axis-based Aggregations"
   ]
  },
  {
   "cell_type": "code",
   "execution_count": null,
   "id": "851c771d",
   "metadata": {},
   "outputs": [],
   "source": [
    "\n",
    "matrix = np.array([[1, 2, 3], [4, 5, 6]])\n",
    "print(\"Matrix:\\n\", matrix)\n",
    "print(\"Column-wise sum:\", np.sum(matrix, axis=0))\n",
    "print(\"Row-wise mean:\", np.mean(matrix, axis=1))\n",
    "print(\"Max (axis=1):\", np.max(matrix, axis=1))"
   ]
  },
  {
   "cell_type": "markdown",
   "id": "ec12ebe7",
   "metadata": {},
   "source": [
    "### 🔄 5. Cumulative Functions"
   ]
  },
  {
   "cell_type": "code",
   "execution_count": null,
   "id": "d901a7f1",
   "metadata": {},
   "outputs": [],
   "source": [
    "\n",
    "arr = np.array([1, 2, 3, 4])\n",
    "print(\"Cumulative Sum:\", np.cumsum(arr))\n",
    "print(\"Cumulative Product:\", np.cumprod(arr))"
   ]
  },
  {
   "cell_type": "markdown",
   "id": "842b701c",
   "metadata": {},
   "source": [
    "### 🧪 6. Min, Max, Argmin, Argmax"
   ]
  },
  {
   "cell_type": "code",
   "execution_count": null,
   "id": "177c1dfe",
   "metadata": {},
   "outputs": [],
   "source": [
    "\n",
    "print(\"Min:\", np.min(arr))\n",
    "print(\"Index of Min:\", np.argmin(arr))\n",
    "print(\"Max:\", np.max(arr))\n",
    "print(\"Index of Max:\", np.argmax(arr))"
   ]
  },
  {
   "cell_type": "markdown",
   "id": "44c101e4",
   "metadata": {},
   "source": [
    "### 📊 7. Percentiles & Median"
   ]
  },
  {
   "cell_type": "code",
   "execution_count": null,
   "id": "dec56d2d",
   "metadata": {},
   "outputs": [],
   "source": [
    "\n",
    "big_data = np.array([5, 10, 15, 20, 25, 30, 35])\n",
    "print(\"Median:\", np.median(big_data))\n",
    "print(\"25th percentile:\", np.percentile(big_data, 25))\n",
    "print(\"75th percentile:\", np.percentile(big_data, 75))"
   ]
  },
  {
   "cell_type": "markdown",
   "id": "04776f45",
   "metadata": {},
   "source": [
    "### 🧠 Summary:\n",
    "\n",
    "- NumPy provides fast, vectorized math and stats ops\n",
    "- Aggregate functions can operate across any axis\n",
    "- Cumulative and descriptive stats functions are super helpful in data science\n",
    "\n",
    "---\n",
    "\n",
    "### ✅ Next Up:\n",
    "\n",
    "In `05_real_world_examples.ipynb`, we’ll explore how NumPy powers real-world tasks like:\n",
    "- Image processing\n",
    "- Machine learning preprocessing\n",
    "- Simulation with random data"
   ]
  }
 ],
 "metadata": {
  "language_info": {
   "name": "python"
  }
 },
 "nbformat": 4,
 "nbformat_minor": 5
}

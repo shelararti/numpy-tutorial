{
 "cells": [
  {
   "cell_type": "markdown",
   "id": "567ff693",
   "metadata": {},
   "source": [
    "# 📘 NumPy – Array Operations"
   ]
  },
  {
   "cell_type": "code",
   "execution_count": 2,
   "id": "3b13e3ca",
   "metadata": {},
   "outputs": [],
   "source": [
    "import numpy as np"
   ]
  },
  {
   "cell_type": "markdown",
   "id": "5a763bfa",
   "metadata": {},
   "source": [
    "### 🎯 Objective:\n",
    "Learn and practice essential array operations in NumPy:\n",
    "- Element-wise operations\n",
    "- Matrix multiplication\n",
    "- Broadcasting\n",
    "- Logical comparisons\n",
    "- Aggregation"
   ]
  },
  {
   "cell_type": "markdown",
   "id": "5f015e4b",
   "metadata": {},
   "source": [
    "### 🧮 Element-wise Arithmetic"
   ]
  },
  {
   "cell_type": "code",
   "execution_count": null,
   "id": "7d7d729e",
   "metadata": {},
   "outputs": [],
   "source": [
    "a = np.array([1, 2, 3])\n",
    "b = np.array([4, 5, 6])\n",
    "\n",
    "print(\"Addition:\", a + b)\n",
    "print(\"Subtraction:\", b - a)\n",
    "print(\"Multiplication:\", a * b)\n",
    "print(\"Division:\", b / a)\n",
    "print(\"Exponentiation:\", a ** 2)"
   ]
  },
  {
   "cell_type": "markdown",
   "id": "233f64b9",
   "metadata": {},
   "source": [
    "### 🧠 Universal Functions (ufuncs)"
   ]
  },
  {
   "cell_type": "code",
   "execution_count": null,
   "id": "ea5a7268",
   "metadata": {},
   "outputs": [],
   "source": [
    "print(\"Sine:\", np.sin(a))\n",
    "print(\"Log:\", np.log(b))\n",
    "print(\"Exp:\", np.exp(a))"
   ]
  },
  {
   "cell_type": "markdown",
   "id": "734036f0",
   "metadata": {},
   "source": [
    "### 🧾 Aggregate Functions"
   ]
  },
  {
   "cell_type": "code",
   "execution_count": null,
   "id": "ab8afbf8",
   "metadata": {},
   "outputs": [],
   "source": [
    "matrix = np.array([[1, 2], [3, 4]])\n",
    "print(\"Sum:\", np.sum(matrix))\n",
    "print(\"Row-wise Sum:\", np.sum(matrix, axis=1))\n",
    "print(\"Column-wise Max:\", np.max(matrix, axis=0))"
   ]
  },
  {
   "cell_type": "markdown",
   "id": "4c01ddbb",
   "metadata": {},
   "source": [
    "### 🧩 Matrix Multiplication"
   ]
  },
  {
   "cell_type": "code",
   "execution_count": 3,
   "id": "a18fd65d",
   "metadata": {},
   "outputs": [
    {
     "name": "stdout",
     "output_type": "stream",
     "text": [
      "Dot Product:\n",
      " [[ 4  4]\n",
      " [10  8]]\n",
      "Element-wise *:\n",
      " [[2 0]\n",
      " [3 8]]\n"
     ]
    }
   ],
   "source": [
    "x = np.array([[1, 2], [3, 4]])\n",
    "y = np.array([[2, 0], [1, 2]])\n",
    "\n",
    "print(\"Dot Product:\\n\", np.dot(x, y))         # or x @ y\n",
    "print(\"Element-wise *:\\n\", x * y)"
   ]
  },
  {
   "cell_type": "markdown",
   "id": "a1be8784",
   "metadata": {},
   "source": [
    "### 🎯 Broadcasting\n",
    "Broadcasting allows NumPy to perform operations on arrays of different shapes."
   ]
  },
  {
   "cell_type": "code",
   "execution_count": null,
   "id": "808be0e2",
   "metadata": {},
   "outputs": [],
   "source": [
    "a = np.array([1, 2, 3])\n",
    "b = 2\n",
    "print(\"Scalar broadcast:\", a + b)\n",
    "\n",
    "m = np.array([[1], [2], [3]])\n",
    "n = np.array([10, 20, 30])\n",
    "print(\"Matrix + Row Vector:\\n\", m + n)"
   ]
  },
  {
   "cell_type": "markdown",
   "id": "75afd016",
   "metadata": {},
   "source": [
    "### ⚖️ Comparison & Logical Operations"
   ]
  },
  {
   "cell_type": "code",
   "execution_count": null,
   "id": "af4d5622",
   "metadata": {},
   "outputs": [],
   "source": [
    "arr = np.array([10, 20, 30, 40, 50])\n",
    "\n",
    "print(\"arr > 25:\", arr > 25)\n",
    "print(\"any > 25:\", np.any(arr > 25))\n",
    "print(\"all > 5:\", np.all(arr > 5))"
   ]
  },
  {
   "cell_type": "markdown",
   "id": "df58364a",
   "metadata": {},
   "source": [
    "### Filtering"
   ]
  },
  {
   "cell_type": "code",
   "execution_count": null,
   "id": "a4fa594c",
   "metadata": {},
   "outputs": [],
   "source": [
    "print(\"Filter arr > 25:\", arr[arr > 25])"
   ]
  },
  {
   "cell_type": "markdown",
   "id": "81a631d4",
   "metadata": {},
   "source": [
    "### 📌 Useful NumPy Tricks"
   ]
  },
  {
   "cell_type": "code",
   "execution_count": null,
   "id": "5d9ee985",
   "metadata": {},
   "outputs": [],
   "source": [
    "print(\"Unique values:\", np.unique([1, 2, 2, 3, 4, 4]))\n",
    "print(\"Sorting:\", np.sort(arr))\n",
    "print(\"Argsort (indices):\", np.argsort(arr))"
   ]
  },
  {
   "cell_type": "markdown",
   "id": "6c913671",
   "metadata": {},
   "source": [
    "### 🧠 Summary:\n",
    "\n",
    " - 🔹NumPy makes element-wise operations intuitive.\n",
    " - 🔹Broadcasting handles mismatched shapes smartly.\n",
    " - 🔹Aggregations help summarize data easily.\n",
    " - 🔹Logical ops make filtering super clean.\n",
    "\n",
    "---\n",
    "\n",
    "### ✅ Next Up:\n",
    "\n",
    "In the next notebook, we'll explore advanced indexing, slicing, and modifying arrays."
   ]
  }
 ],
 "metadata": {
  "kernelspec": {
   "display_name": "Python 3",
   "language": "python",
   "name": "python3"
  },
  "language_info": {
   "codemirror_mode": {
    "name": "ipython",
    "version": 3
   },
   "file_extension": ".py",
   "mimetype": "text/x-python",
   "name": "python",
   "nbconvert_exporter": "python",
   "pygments_lexer": "ipython3",
   "version": "3.12.4"
  }
 },
 "nbformat": 4,
 "nbformat_minor": 5
}

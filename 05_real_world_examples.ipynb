{
 "cells": [
  {
   "cell_type": "markdown",
   "id": "d1c58ae6",
   "metadata": {},
   "source": [
    "# 📘 NumPy – Real-World Examples"
   ]
  },
  {
   "cell_type": "code",
   "execution_count": null,
   "id": "c12bb2f2",
   "metadata": {},
   "outputs": [],
   "source": [
    "import numpy as np"
   ]
  },
  {
   "cell_type": "markdown",
   "id": "b02d4600",
   "metadata": {},
   "source": [
    "### 🎯 Objective:\n",
    "\n",
    "Apply NumPy to real-world-style problems:\n",
    "- Machine learning preprocessing\n",
    "- Image-like data manipulation\n",
    "- Simulation and randomness\n",
    "- Performance comparison with Python lists"
   ]
  },
  {
   "cell_type": "markdown",
   "id": "968168a8",
   "metadata": {},
   "source": [
    "### 📊 1. Data Normalization (ML Preprocessing)"
   ]
  },
  {
   "cell_type": "code",
   "execution_count": null,
   "id": "da135e24",
   "metadata": {},
   "outputs": [],
   "source": [
    "\n",
    "data = np.array([[100, 200, 300],\n",
    "                 [400, 500, 600],\n",
    "                 [700, 800, 900]])"
   ]
  },
  {
   "cell_type": "markdown",
   "id": "586d9fad",
   "metadata": {},
   "source": [
    "###  - 🔹Min-max normalization"
   ]
  },
  {
   "cell_type": "code",
   "execution_count": null,
   "id": "7dd9a66b",
   "metadata": {},
   "outputs": [],
   "source": [
    "\n",
    "data_min = data.min(axis=0)\n",
    "data_max = data.max(axis=0)\n",
    "\n",
    "normalized = (data - data_min) / (data_max - data_min)\n",
    "print(\"Normalized data:\\n\", normalized)\n"
   ]
  },
  {
   "cell_type": "markdown",
   "id": "5c95c583",
   "metadata": {},
   "source": [
    "### 📷 2. Image-like Matrix Manipulation (Grayscale)\n",
    "\n",
    "####  - 🔹Simulating a 5x5 grayscale image"
   ]
  },
  {
   "cell_type": "code",
   "execution_count": null,
   "id": "a4745427",
   "metadata": {},
   "outputs": [],
   "source": [
    "\n",
    "image = np.random.randint(0, 256, (5, 5))\n",
    "print(\"Original image:\\n\", image)"
   ]
  },
  {
   "cell_type": "markdown",
   "id": "b44f33e2",
   "metadata": {},
   "source": [
    "---\n",
    "\n",
    "####  - 🔹Inverting the image"
   ]
  },
  {
   "cell_type": "code",
   "execution_count": null,
   "id": "26b21958",
   "metadata": {},
   "outputs": [],
   "source": [
    "\n",
    "inverted = 255 - image\n",
    "print(\"Inverted image:\\n\", inverted)"
   ]
  },
  {
   "cell_type": "markdown",
   "id": "27385645",
   "metadata": {},
   "source": [
    "---\n",
    "\n",
    "####  - 🔹Clipping pixel values"
   ]
  },
  {
   "cell_type": "code",
   "execution_count": null,
   "id": "12216012",
   "metadata": {},
   "outputs": [],
   "source": [
    "\n",
    "clipped = np.clip(image, 100, 200)\n",
    "print(\"Clipped image (100-200):\\n\", clipped)"
   ]
  },
  {
   "cell_type": "markdown",
   "id": "e1177ace",
   "metadata": {},
   "source": [
    "### 🎲 3. Random Data Simulation (e.g. for bootstrapping, games, etc.)\n",
    "\n",
    "####  - 🔹Simulate 10 dice rolls"
   ]
  },
  {
   "cell_type": "code",
   "execution_count": null,
   "id": "19cec2b6",
   "metadata": {},
   "outputs": [],
   "source": [
    "\n",
    "dice = np.random.randint(1, 7, size=10)\n",
    "print(\"Dice rolls:\", dice)"
   ]
  },
  {
   "cell_type": "markdown",
   "id": "f501de00",
   "metadata": {},
   "source": [
    "---\n",
    "\n",
    "####  - 🔹Simulate 1000 samples from a normal distribution"
   ]
  },
  {
   "cell_type": "code",
   "execution_count": null,
   "id": "5993cccf",
   "metadata": {},
   "outputs": [],
   "source": [
    "\n",
    "samples = np.random.normal(loc=0, scale=1, size=1000)\n",
    "print(\"First 5 Normal samples:\", samples[:5])"
   ]
  },
  {
   "cell_type": "markdown",
   "id": "a60bd7c9",
   "metadata": {},
   "source": [
    "### 🧠 4. Vectorized Speed vs. Python Loop"
   ]
  },
  {
   "cell_type": "code",
   "execution_count": null,
   "id": "f04a6e3a",
   "metadata": {},
   "outputs": [],
   "source": [
    "\n",
    "import time\n"
   ]
  },
  {
   "cell_type": "markdown",
   "id": "6b4b9827",
   "metadata": {},
   "source": [
    "####  - 🔹Using NumPy"
   ]
  },
  {
   "cell_type": "code",
   "execution_count": null,
   "id": "b9867dd6",
   "metadata": {},
   "outputs": [],
   "source": [
    "\n",
    "start = time.time()\n",
    "a = np.random.rand(10**6)\n",
    "b = np.random.rand(10**6)\n",
    "result = a + b\n",
    "end = time.time()\n",
    "print(\"NumPy vectorized time:\", round(end - start, 4), \"sec\")"
   ]
  },
  {
   "cell_type": "markdown",
   "id": "c0592ddc",
   "metadata": {},
   "source": [
    "---\n",
    "\n",
    "####  - 🔹Using Python list"
   ]
  },
  {
   "cell_type": "code",
   "execution_count": null,
   "id": "8f637b37",
   "metadata": {},
   "outputs": [],
   "source": [
    "\n",
    "start = time.time()\n",
    "a_list = list(a)\n",
    "b_list = list(b)\n",
    "result_list = [x + y for x, y in zip(a_list, b_list)]\n",
    "end = time.time()\n",
    "print(\"Python list time:\", round(end - start, 4), \"sec\")"
   ]
  },
  {
   "cell_type": "markdown",
   "id": "e078c05c",
   "metadata": {},
   "source": [
    "### 🔍 5. NaN Handling"
   ]
  },
  {
   "cell_type": "code",
   "execution_count": null,
   "id": "2a1fa153",
   "metadata": {},
   "outputs": [],
   "source": [
    "\n",
    "arr = np.array([1, 2, np.nan, 4, 5])\n",
    "print(\"Sum with NaN:\", np.sum(arr))\n",
    "print(\"Ignore NaNs:\", np.nansum(arr))\n",
    "print(\"Mean ignoring NaN:\", np.nanmean(arr))"
   ]
  },
  {
   "cell_type": "markdown",
   "id": "04716b07",
   "metadata": {},
   "source": [
    "### 🧠 Summary:\n",
    "\n",
    "NumPy isn't just for numbers — it's the backbone of:\n",
    "- ML preprocessing\n",
    "- Image and matrix ops\n",
    "- Fast scientific computing\n",
    "- Efficient memory use\n",
    "\n",
    "---\n",
    "\n",
    "### 🏁 End of Tutorial\n",
    "\n",
    "You’ve now got a hands-on understanding of NumPy.\n",
    "\n",
    "👉 Try building your own small project using NumPy with real datasets — maybe CSV-based preprocessing, image ops, or simulations.\n",
    "\n",
    "Thanks for learning!\n"
   ]
  }
 ],
 "metadata": {
  "language_info": {
   "name": "python"
  }
 },
 "nbformat": 4,
 "nbformat_minor": 5
}

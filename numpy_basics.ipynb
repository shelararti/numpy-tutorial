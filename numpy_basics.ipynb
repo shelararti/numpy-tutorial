{
 "cells": [
  {
   "cell_type": "markdown",
   "id": "e3dd3ff5",
   "metadata": {},
   "source": [
    "## 1️⃣ Introduction to NumPy\n",
    "\n",
    "NumPy (Numerical Python) is a library used for numerical computing in Python. It provides fast and memory-efficient arrays and mathematical functions."
   ]
  },
  {
   "cell_type": "code",
   "execution_count": 1,
   "id": "5dfb031d",
   "metadata": {},
   "outputs": [
    {
     "name": "stdout",
     "output_type": "stream",
     "text": [
      "numpy imported successfully\n"
     ]
    }
   ],
   "source": [
    "import numpy as np\n",
    "print(\"numpy imported successfully\")"
   ]
  },
  {
   "cell_type": "code",
   "execution_count": 2,
   "id": "afa7803c",
   "metadata": {},
   "outputs": [
    {
     "name": "stdout",
     "output_type": "stream",
     "text": [
      "numpy version-\n",
      "1.26.4\n"
     ]
    }
   ],
   "source": [
    "print(\"numpy version-\")\n",
    "print(np.__version__)"
   ]
  },
  {
   "cell_type": "markdown",
   "id": "97dbc6f7",
   "metadata": {},
   "source": [
    "## 2️⃣ NumPy N-dimensional Arrays (1D, 2D, 3D)\n",
    "\n",
    "NumPy arrays can be 1D, 2D, or 3D. They are more efficient than Python lists."
   ]
  },
  {
   "cell_type": "code",
   "execution_count": 6,
   "id": "0a45d967",
   "metadata": {},
   "outputs": [
    {
     "name": "stdout",
     "output_type": "stream",
     "text": [
      "1d Array\n",
      "  [1 2 3 4]\n",
      "2d array\n",
      "  [[1 2 3 4]\n",
      " [1 2 3 4]]\n",
      "3d array\n",
      "  [[[ 1  2  3]\n",
      "  [34  5  6]]\n",
      "\n",
      " [[ 2  3  4]\n",
      "  [ 3  4  6]]]\n"
     ]
    }
   ],
   "source": [
    "arr1d=np.array([1,2,3,4])\n",
    "arr2d=np.array([[1,2,3,4],[1,2,3,4]])\n",
    "arr3d=np.array([[[1,2,3],[34,5,6]],[[2,3,4],[3,4,6]]])\n",
    "\n",
    "print(\"1d Array\\n \",arr1d)\n",
    "print(\"2d array\\n \",arr2d)\n",
    "print(\"3d array\\n \",arr3d)"
   ]
  },
  {
   "cell_type": "markdown",
   "id": "9897ec26",
   "metadata": {},
   "source": [
    "## 3️⃣ Functions to Create Arrays\n",
    "\n",
    "NumPy provides multiple functions to create arrays efficiently."
   ]
  },
  {
   "cell_type": "markdown",
   "id": "10259f52",
   "metadata": {},
   "source": [
    "Summary Table:<BR>\n",
    "Function\tArgument Type\tExample<BR>\n",
    "np.zeros()\tTuple for shape\t(3, 3)<BR>\n",
    "np.ones()\tTuple for shape\t(2, 3)<BR>\n",
    "#only array,ones, zeros,empty pass a tuple of argument<br>\n",
    "np.identity()\tSingle integer\t2\n",
    "\n"
   ]
  },
  {
   "cell_type": "code",
   "execution_count": 62,
   "id": "829d9f5a",
   "metadata": {},
   "outputs": [
    {
     "name": "stdout",
     "output_type": "stream",
     "text": [
      "array filled with zeros\n",
      "  [[0. 0. 0.]\n",
      " [0. 0. 0.]\n",
      " [0. 0. 0.]]\n",
      "array filled with ones\n",
      "  [[1. 1. 1.]\n",
      " [1. 1. 1.]]\n",
      "array filled with random values\n",
      "  [[0.94896882 0.04374735 0.05964008 0.67618932]\n",
      " [0.54888084 0.64392692 0.51315694 0.89163479]\n",
      " [0.51216002 0.99035678 0.3241869  0.82843506]\n",
      " [0.30265426 0.5146176  0.11690017 0.85386555]]\n",
      "identity matrix\n",
      "  [[1. 0.]\n",
      " [0. 1.]]\n",
      "array full of 7\n",
      "  [[7 7 7]\n",
      " [7 7 7]]\n",
      "empty arrey\n",
      "  [[1. 1. 1.]\n",
      " [1. 1. 1.]]\n",
      "arranged array\n",
      "  [1 5 9]\n"
     ]
    }
   ],
   "source": [
    "zeros_array=np.zeros((3,3))\n",
    "ones_array=np.ones((2,3))\n",
    "random_array=np.random.rand(4,4)\n",
    "identity_matrix=np.identity(2)\n",
    "arr = np.full((2, 3), 7)\n",
    "empty_array=np.empty((2,3))\n",
    "arrange_array = np.arange(1, 10, 4) # Create an array from 1 to 10 with step 4\n",
    "\n",
    "print(\"array filled with zeros\\n \",zeros_array)\n",
    "print(\"array filled with ones\\n \",ones_array)\n",
    "print('array filled with random values\\n ',random_array)\n",
    "print(\"identity matrix\\n \",identity_matrix)\n",
    "print(\"array full of 7\\n \",arr)\n",
    "print(\"empty arrey\\n \",empty_array)\n",
    "print(\"arranged array\\n \",arrange_array)  "
   ]
  },
  {
   "cell_type": "markdown",
   "id": "48925107",
   "metadata": {},
   "source": [
    "## 4️⃣ Combining Arrays\n",
    "\n",
    "We can combine multiple arrays using concatenation."
   ]
  },
  {
   "cell_type": "code",
   "execution_count": 16,
   "id": "f6645495",
   "metadata": {},
   "outputs": [
    {
     "name": "stdout",
     "output_type": "stream",
     "text": [
      "concatenated array\n",
      "  [1 2 3 4 5 6]\n"
     ]
    }
   ],
   "source": [
    "a=np.array([1,2,3])\n",
    "b=np.array([4,5,6])\n",
    "c=np.concatenate((a,b))\n",
    "\n",
    "print('concatenated array\\n ',c)"
   ]
  },
  {
   "cell_type": "markdown",
   "id": "5b6409b0",
   "metadata": {},
   "source": [
    "## 5️⃣ Indexing, Slicing & Reshaping"
   ]
  },
  {
   "cell_type": "markdown",
   "id": "140fb9a6",
   "metadata": {},
   "source": [
    "np.sum() works on anything array-like.\n",
    "\n",
    "arr.sum() only works on NumPy arrays (or pandas Series, etc.)"
   ]
  },
  {
   "cell_type": "code",
   "execution_count": 17,
   "id": "edab0c30",
   "metadata": {},
   "outputs": [
    {
     "name": "stdout",
     "output_type": "stream",
     "text": [
      "First Element: 10\n",
      "Last 3 Elements: [30 40 50]\n",
      "Reshaped Array:\n",
      " [[10]\n",
      " [20]\n",
      " [30]\n",
      " [40]\n",
      " [50]]\n"
     ]
    }
   ],
   "source": [
    "arr = np.array([10, 20, 30, 40, 50])\n",
    "print('First Element:', arr[0])\n",
    "print('Last 3 Elements:', arr[-3:])\n",
    "reshaped = arr.reshape(5,1)\n",
    "print('Reshaped Array:\\n', reshaped)"
   ]
  },
  {
   "cell_type": "markdown",
   "id": "c430da03",
   "metadata": {},
   "source": [
    "convert one 2d array into another 2d array"
   ]
  },
  {
   "cell_type": "code",
   "execution_count": 23,
   "id": "8d731922",
   "metadata": {},
   "outputs": [
    {
     "name": "stdout",
     "output_type": "stream",
     "text": [
      "reshaped array\n",
      "  [[1]\n",
      " [2]\n",
      " [3]\n",
      " [4]\n",
      " [5]\n",
      " [6]\n",
      " [7]\n",
      " [8]\n",
      " [9]]\n"
     ]
    }
   ],
   "source": [
    "a=np.array([[1,2,3],[4,5,6],[7,8,9]])\n",
    "b=a.reshape(9,1)\n",
    "print(\"reshaped array\\n \",b)"
   ]
  },
  {
   "cell_type": "markdown",
   "id": "39a031fc",
   "metadata": {},
   "source": [
    "## 6️⃣ String Indexing & Slicing"
   ]
  },
  {
   "cell_type": "code",
   "execution_count": 28,
   "id": "9d1f148c",
   "metadata": {},
   "outputs": [
    {
     "name": "stdout",
     "output_type": "stream",
     "text": [
      "First Character: N\n",
      "Slice: NumPy\n",
      "Reverse: yrarbiL yPmuN\n"
     ]
    }
   ],
   "source": [
    "text = 'NumPy Library'\n",
    "print('First Character:', text[0])\n",
    "print('Slice:', text[0:5])\n",
    "print('Reverse:', text[::-1])"
   ]
  },
  {
   "cell_type": "markdown",
   "id": "09663292",
   "metadata": {},
   "source": [
    "## 7️⃣ Operations on Arrays (Arithmetic & Logical)"
   ]
  },
  {
   "cell_type": "code",
   "execution_count": 41,
   "id": "dee05827",
   "metadata": {},
   "outputs": [
    {
     "name": "stdout",
     "output_type": "stream",
     "text": [
      "Array a: [10 20 30 40 50]\n",
      "Array b: [1 2 3 4 5]\n",
      "\n",
      "--- Arithmetic Operations using NumPy methods ---\n",
      "Addition (a + b): [11 22 33 44 55]\n",
      "Subtraction (a - b): [ 9 18 27 36 45]\n",
      "Multiplication (a * b): [ 10  40  90 160 250]\n",
      "Division (a / b): [10. 10. 10. 10. 10.]\n",
      "Power (a ** 2): [ 100  400  900 1600 2500]\n",
      "Modulus (a % 3): [1 2 0 1 2]\n",
      "square root of (a^2):  [3.16227766 4.47213595 5.47722558 6.32455532 7.07106781]\n",
      "\n",
      "--- Statistical Operations on array a ---\n",
      "Sum: 150\n",
      "Mean: 30.0\n",
      "Median: 30.0\n",
      "Standard Deviation: 14.142135623730951\n",
      "Variance: 200.0\n",
      "Minimum: 10\n",
      "Maximum: 50\n"
     ]
    }
   ],
   "source": [
    "# Create two sample numpy arrays\n",
    "a = np.array([10, 20, 30, 40, 50])\n",
    "b = np.array([1, 2, 3, 4, 5])\n",
    "\n",
    "print(\"Array a:\", a)\n",
    "print(\"Array b:\", b)\n",
    "\n",
    "# Arithmetic operations\n",
    "print(\"\\n--- Arithmetic Operations using NumPy methods ---\")\n",
    "print(\"Addition (a + b):\", np.add(a, b))\n",
    "print(\"Subtraction (a - b):\", np.subtract(a, b))\n",
    "print(\"Multiplication (a * b):\", np.multiply(a, b))\n",
    "print(\"Division (a / b):\", np.divide(a, b))\n",
    "print(\"Power (a ** 2):\", np.power(a, 2))\n",
    "print(\"Modulus (a % 3):\", np.mod(a, 3))\n",
    "print(\"square root of (a^2): \",np.sqrt(a))\n",
    "\n",
    "# Statistical operations on array a\n",
    "print(\"\\n--- Statistical Operations on array a ---\")\n",
    "print(\"Sum:\", np.sum(a))\n",
    "print(\"Mean:\", np.mean(a))\n",
    "print(\"Median:\", np.median(a))\n",
    "print(\"Standard Deviation:\", np.std(a))\n",
    "print(\"Variance:\", np.var(a))\n",
    "print(\"Minimum:\", np.min(a))\n",
    "print(\"Maximum:\", np.max(a))"
   ]
  },
  {
   "cell_type": "code",
   "execution_count": 61,
   "id": "c981753e",
   "metadata": {},
   "outputs": [
    {
     "name": "stdout",
     "output_type": "stream",
     "text": [
      "sorted array\n",
      "  [1 3 6 9]\n",
      "unique elements from the array\n",
      "  [1 2 3 4 6]\n"
     ]
    }
   ],
   "source": [
    "a = np.array([[1, 2,4], [3, 4,6]])\n",
    "\n",
    "# Example array 'b'\n",
    "b = np.array([9, 3, 6, 1])\n",
    "print(\"sorted array\\n \",np.sort(b))  # Sorts the array: [1 3 6 9]\n",
    "\n",
    "# Unique values in arrange_array\n",
    "print(\"unique elements from the array\\n \",np.unique(a))  # Output: [1 5 9]"
   ]
  },
  {
   "cell_type": "markdown",
   "id": "f04809f4",
   "metadata": {},
   "source": [
    "## 8. Operations on Arrays (Arithmetic & Logical)"
   ]
  },
  {
   "cell_type": "markdown",
   "id": "1f6bcbcd",
   "metadata": {},
   "source": [
    "properties alwyas start with the array name"
   ]
  },
  {
   "cell_type": "code",
   "execution_count": 60,
   "id": "f41f7018",
   "metadata": {},
   "outputs": [
    {
     "name": "stdout",
     "output_type": "stream",
     "text": [
      "Array:\n",
      "[[1 2 3]\n",
      " [4 5 6]]\n",
      "\n",
      "Properties of the array:\n",
      "Shape: (2, 3)\n",
      "Size: 6\n",
      "Number of dimensions (ndim): 2\n",
      "Data type (dtype): int32\n",
      "Item size (itemsize): 4 bytes\n",
      "Total bytes (nbytes): 24\n",
      "Transpose np.transpose(arr):\n",
      "[[1 4]\n",
      " [2 5]\n",
      " [3 6]]\n",
      "Flat array: [1 2 3 4 5 6]\n"
     ]
    }
   ],
   "source": [
    "# Create a sample NumPy array\n",
    "arr = np.array([[1, 2, 3], [4, 5, 6]])\n",
    "\n",
    "# Retrieve and display array properties\n",
    "print(\"Array:\")\n",
    "print(arr)\n",
    "\n",
    "print(\"\\nProperties of the array:\")\n",
    "print(f\"Shape: {arr.shape}\")             # Dimensions (rows, columns)\n",
    "print(f\"Size: {arr.size}\")               # Total number of elements\n",
    "print(f\"Number of dimensions (ndim): {arr.ndim}\")\n",
    "print(f\"Data type (dtype): {arr.dtype}\") # Data type of elements\n",
    "print(f\"Item size (itemsize): {arr.itemsize} bytes\") # Size of each element\n",
    "print(f\"Total bytes (nbytes): {arr.nbytes}\") # Total memory in bytes\n",
    "print(f\"Transpose np.transpose(arr):\\n{arr.T}\")            # Transposed version of the array\n",
    "print(f\"Flat array: {arr.flatten()}\")    # Flattened version of the array"
   ]
  }
 ],
 "metadata": {
  "kernelspec": {
   "display_name": "Python 3",
   "language": "python",
   "name": "python3"
  },
  "language_info": {
   "codemirror_mode": {
    "name": "ipython",
    "version": 3
   },
   "file_extension": ".py",
   "mimetype": "text/x-python",
   "name": "python",
   "nbconvert_exporter": "python",
   "pygments_lexer": "ipython3",
   "version": "3.12.4"
  }
 },
 "nbformat": 4,
 "nbformat_minor": 5
}

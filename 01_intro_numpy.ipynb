{
 "cells": [
  {
   "cell_type": "markdown",
   "id": "b55f624a",
   "metadata": {},
   "source": [
    "# 📘 NumPy – Introduction\n",
    "\n",
    "**📌 What is NumPy?**\n",
    "\n",
    "NumPy (Numerical Python) is a powerful library for numerical computing in Python.\n",
    "It provides support for large, multi-dimensional arrays and matrices, along with a collection of mathematical functions to operate on them.\n"
   ]
  },
  {
   "cell_type": "markdown",
   "id": "d33266b1",
   "metadata": {},
   "source": [
    "---\n",
    "**It covers:**\n",
    "\n",
    " -🔹What NumPy is\n",
    "\n",
    " -🔹Why use it\n",
    "\n",
    " -🔹Basic usage examples\n",
    "\n",
    " -🔹Array creation methods\n",
    "\n",
    " -🔹Shape, dtype, indexing, and simple math\n",
    "\n",
    "----"
   ]
  },
  {
   "cell_type": "markdown",
   "id": "48283336",
   "metadata": {},
   "source": [
    "### 📦 Importing NumPy"
   ]
  },
  {
   "cell_type": "code",
   "execution_count": 1,
   "id": "d06e8324",
   "metadata": {},
   "outputs": [],
   "source": [
    "import numpy as np"
   ]
  },
  {
   "cell_type": "markdown",
   "id": "30d79242",
   "metadata": {},
   "source": [
    "### ✅ Creating Arrays"
   ]
  },
  {
   "cell_type": "code",
   "execution_count": null,
   "id": "58290e3f",
   "metadata": {},
   "outputs": [],
   "source": [
    "a = np.array([1, 2, 3])\n",
    "print(\"1D array:\", a)\n",
    "\n",
    "b = np.array([[1, 2, 3], [4, 5, 6]])\n",
    "print(\"2D array:\\n\", b)"
   ]
  },
  {
   "cell_type": "markdown",
   "id": "be8b63b9",
   "metadata": {},
   "source": [
    "### 📐 Checking Properties"
   ]
  },
  {
   "cell_type": "code",
   "execution_count": null,
   "id": "802215c4",
   "metadata": {},
   "outputs": [],
   "source": [
    "print(\"Shape of b:\", b.shape)\n",
    "print(\"Data type of b:\", b.dtype)"
   ]
  },
  {
   "cell_type": "markdown",
   "id": "70372536",
   "metadata": {},
   "source": [
    "### ⚒️ Array Creation Methods"
   ]
  },
  {
   "cell_type": "code",
   "execution_count": null,
   "id": "bfd17d84",
   "metadata": {},
   "outputs": [],
   "source": [
    "zeros = np.zeros((2, 3))\n",
    "ones = np.ones((3, 3))\n",
    "full = np.full((2, 2), 9)\n",
    "eye = np.eye(3)\n",
    "rand = np.random.rand(2, 2)\n",
    "\n",
    "print(\"Zeros:\\n\", zeros)\n",
    "print(\"Ones:\\n\", ones)\n",
    "print(\"Full:\\n\", full)\n",
    "print(\"Identity Matrix:\\n\", eye)\n",
    "print(\"Random:\\n\", rand)"
   ]
  },
  {
   "cell_type": "markdown",
   "id": "f2fbc1c5",
   "metadata": {},
   "source": [
    "### 🔄 Reshaping & Flattening"
   ]
  },
  {
   "cell_type": "code",
   "execution_count": null,
   "id": "fb46c54b",
   "metadata": {},
   "outputs": [],
   "source": [
    "arr = np.arange(12)\n",
    "reshaped = arr.reshape((3, 4))\n",
    "flattened = reshaped.flatten()\n",
    "\n",
    "print(\"Original:\", arr)\n",
    "print(\"Reshaped (3x4):\\n\", reshaped)\n",
    "print(\"Flattened:\", flattened)\n"
   ]
  },
  {
   "cell_type": "markdown",
   "id": "4eff986d",
   "metadata": {},
   "source": [
    "### 🔢 Indexing & Slicing"
   ]
  },
  {
   "cell_type": "code",
   "execution_count": null,
   "id": "9070ba5b",
   "metadata": {},
   "outputs": [],
   "source": [
    "arr2 = np.array([10, 20, 30, 40, 50])\n",
    "print(\"First element:\", arr2[0])\n",
    "print(\"Last two elements:\", arr2[-2:])\n",
    "print(\"Every second element:\", arr2[::2])"
   ]
  },
  {
   "cell_type": "markdown",
   "id": "09d7ed6a",
   "metadata": {},
   "source": [
    "### ➕ Basic Arithmetic"
   ]
  },
  {
   "cell_type": "code",
   "execution_count": null,
   "id": "994fdc99",
   "metadata": {},
   "outputs": [],
   "source": [
    "x = np.array([1, 2, 3])\n",
    "y = np.array([4, 5, 6])\n",
    "\n",
    "print(\"x + y:\", x + y)\n",
    "print(\"x * y:\", x * y)\n",
    "print(\"x squared:\", x**2)"
   ]
  },
  {
   "cell_type": "markdown",
   "id": "e993653b",
   "metadata": {},
   "source": [
    "### 📊 Summary Functions"
   ]
  },
  {
   "cell_type": "code",
   "execution_count": null,
   "id": "290c0ddd",
   "metadata": {},
   "outputs": [],
   "source": [
    "print(\"Mean:\", np.mean(x))\n",
    "print(\"Max:\", np.max(x))\n",
    "print(\"Sum:\", np.sum(x))"
   ]
  },
  {
   "cell_type": "markdown",
   "id": "63d8cbe3",
   "metadata": {},
   "source": [
    "**🧠 Why NumPy?**\n",
    "\n",
    "- Faster than native Python lists\n",
    "- Memory-efficient\n",
    "- Essential for data science, ML, image processing\n",
    "\n",
    "---\n",
    "\n",
    "**✅ Next Up**\n",
    "In the next notebook, we'll dive into array operations, broadcasting, and conditional logic."
   ]
  }
 ],
 "metadata": {
  "kernelspec": {
   "display_name": "Python 3",
   "language": "python",
   "name": "python3"
  },
  "language_info": {
   "codemirror_mode": {
    "name": "ipython",
    "version": 3
   },
   "file_extension": ".py",
   "mimetype": "text/x-python",
   "name": "python",
   "nbconvert_exporter": "python",
   "pygments_lexer": "ipython3",
   "version": "3.12.4"
  }
 },
 "nbformat": 4,
 "nbformat_minor": 5
}
